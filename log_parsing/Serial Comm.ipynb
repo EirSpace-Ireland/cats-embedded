{
 "cells": [
  {
   "cell_type": "code",
   "execution_count": 52,
   "metadata": {},
   "outputs": [],
   "source": [
    "import serial.tools.list_ports\n",
    "from serial import Serial\n",
    "import json\n",
    "import time"
   ]
  },
  {
   "cell_type": "code",
   "execution_count": 53,
   "metadata": {},
   "outputs": [
    {
     "name": "stdout",
     "output_type": "stream",
     "text": [
      "{'boot_state': 'CATS_CONFIG', 'clear_flash': False}\n"
     ]
    }
   ],
   "source": [
    "with open('cats_config.json') as f:\n",
    "    config = json.load(f)\n",
    "    \n",
    "print(config)"
   ]
  },
  {
   "cell_type": "code",
   "execution_count": 54,
   "metadata": {},
   "outputs": [
    {
     "name": "stdout",
     "output_type": "stream",
     "text": [
      "No C.A.T.S. found, sleeping for 1 second\n",
      "No C.A.T.S. found, sleeping for 1 second\n",
      "No C.A.T.S. found, sleeping for 1 second\n",
      "No C.A.T.S. found, sleeping for 1 second\n",
      "No C.A.T.S. found, sleeping for 1 second\n",
      "C.A.T.S. found at COM12 - STMicroelectronics Virtual COM Port (COM12)\n"
     ]
    }
   ],
   "source": [
    "while True:\n",
    "    for port in serial.tools.list_ports.comports():\n",
    "        if(port.description.startswith('STMicroelectronics Virtual COM Port')):\n",
    "            #print(port)\n",
    "            break\n",
    "    else:\n",
    "        print(\"No C.A.T.S. found, sleeping for 1 second\")\n",
    "        time.sleep(1)\n",
    "        continue\n",
    "    break\n",
    "print(f'C.A.T.S. found at {port}')"
   ]
  },
  {
   "cell_type": "code",
   "execution_count": 55,
   "metadata": {},
   "outputs": [
    {
     "name": "stdout",
     "output_type": "stream",
     "text": [
      "C.A.T.S. says: \"What is my purpose?\"\n",
      "PC says: \"Wait for instructions!\"\n",
      "C.A.T.S. says: \"OK!\"\n",
      "C.A.T.S. says: \" CATS_CONFIG\"\n",
      "C.A.T.S. says: \" False\"\n",
      "C.A.T.S. says: \"USB communication complete, config updated.\"\n",
      "C.A.T.S. says: \"  4006 \u001b[32m INFO\u001b[0m \u001b[90m              task_init.c:175:\u001b[0m System initialization complete.\"\n",
      "C.A.T.S. says: \"  5400 \u001b[32m INFO\u001b[0m \u001b[90m              task_init.c:179:\u001b[0m Device initialization complete.\"\n",
      "C.A.T.S. says: \"  6402 \u001b[32m INFO\u001b[0m \u001b[90m              task_init.c:183:\u001b[0m Task initialization complete.\"\n",
      "C.A.T.S. says: \"  7403 \u001b[94mTRACE\u001b[0m \u001b[90m         task_state_est.c:235:\u001b[0m Height 188.219: Velocity: 186.356 Acceleration: 0.0\"\n",
      "C.A.T.S. says: \"  7413 \u001b[94mTRACE\u001b[0m \u001b[90m         task_state_est.c:235:\u001b[0m Height 192.541: Velocity: 188.766 Acceleration: 0.0\"\n",
      "C.A.T.S. says: \"  7423 \u001b[94mTRACE\u001b[0m \u001b[90m         task_state_est.c:235:\u001b[0m Height 194.836: Velocity: 189.162 Acceleration: 0.0\"\n",
      "C.A.T.S. says: \"  7433 \u001b[94mTRACE\u001b[0m \u001b[90m         task_state_est.c:235:\u001b[0m Height 196.457: Velocity: 188.902 Acceleration: 0.0\"\n"
     ]
    }
   ],
   "source": [
    "read_attempt = 0\n",
    "with serial.Serial(port.name, 115200, timeout=10) as ser:\n",
    "    while read_attempt < 10:\n",
    "        line = ser.readline().decode().rstrip()\n",
    "        print(f'C.A.T.S. says: \"{line}\"')\n",
    "        if line == 'What is my purpose?':\n",
    "            print('PC says: \"Wait for instructions!\"')\n",
    "            ser.write(b'Wait for instructions!')\n",
    "            ack_line = ser.readline().decode().rstrip()\n",
    "            print(f'C.A.T.S. says: \"{ack_line}\"')\n",
    "            if ack_line == 'OK!':\n",
    "                ser.write(b'Hello from PC!')\n",
    "                time.sleep(0.1)\n",
    "                cfg_str = f\"CFG:{config['boot_state']};{config['clear_flash']}\"\n",
    "                ser.write(cfg_str.encode())\n",
    "                read_cfg_response_len = 0\n",
    "                while read_cfg_response_len < 10:\n",
    "                    cfg_response_line = ser.readline().decode().rstrip()\n",
    "                    print(f'C.A.T.S. says: \"{cfg_response_line}\"')\n",
    "                    read_cfg_response_len += 1\n",
    "            break\n",
    "        read_attempt += 1\n",
    "    \n",
    "    #ser.write(b'hello_config_123')"
   ]
  },
  {
   "cell_type": "code",
   "execution_count": null,
   "metadata": {},
   "outputs": [],
   "source": [
    "with serial.Serial(port.name, 115200, timeout=10) as ser:\n",
    "    while True:\n",
    "        line = ser.readline().decode().rstrip()\n",
    "        print(line)"
   ]
  },
  {
   "cell_type": "code",
   "execution_count": null,
   "metadata": {},
   "outputs": [],
   "source": []
  },
  {
   "cell_type": "code",
   "execution_count": 13,
   "metadata": {},
   "outputs": [],
   "source": []
  },
  {
   "cell_type": "code",
   "execution_count": 4,
   "metadata": {},
   "outputs": [],
   "source": []
  },
  {
   "cell_type": "code",
   "execution_count": null,
   "metadata": {},
   "outputs": [],
   "source": []
  },
  {
   "cell_type": "code",
   "execution_count": null,
   "metadata": {},
   "outputs": [],
   "source": []
  }
 ],
 "metadata": {
  "kernelspec": {
   "display_name": "Python 3",
   "language": "python",
   "name": "python3"
  },
  "language_info": {
   "codemirror_mode": {
    "name": "ipython",
    "version": 3
   },
   "file_extension": ".py",
   "mimetype": "text/x-python",
   "name": "python",
   "nbconvert_exporter": "python",
   "pygments_lexer": "ipython3",
   "version": "3.8.3"
  }
 },
 "nbformat": 4,
 "nbformat_minor": 4
}
