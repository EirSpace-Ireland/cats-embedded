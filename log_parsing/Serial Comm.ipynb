{
 "cells": [
  {
   "cell_type": "code",
   "execution_count": 1,
   "metadata": {},
   "outputs": [
    {
     "name": "stdout",
     "output_type": "stream",
     "text": [
      "COM12 - STMicroelectronics Virtual COM Port (COM12)\n",
      "b'1213101 \\x1b[94mTRACE\\x1b[0m \\x1b[90m         task_state_est.c:207:\\x1b[0m Height 1.689: Velocity: 0.3\\n'\n",
      "b'1213109 \\x1b[94mTRACE\\x1b[0m \\x1b[90m         task_state_est.c:207:\\x1b[0m Height 1.688: Velocity: 0.3\\n'\n",
      "b'1213121 \\x1b[94mTRACE\\x1b[0m \\x1b[90m         task_state_est.c:207:\\x1b[0m Height 1.686: Velocity: 0.2\\n'\n",
      "b'1213131 \\x1b[94mTRACE\\x1b[0m \\x1b[90m         task_state_est.c:207:\\x1b[0m Height 1.686: Velocity: 0.2\\n'\n",
      "b'1213139 \\x1b[94mTRACE\\x1b[0m \\x1b[90m         task_state_est.c:207:\\x1b[0m Height 1.691: Velocity: 0.3\\n'\n",
      "b'1213151 \\x1b[94mTRACE\\x1b[0m \\x1b[90m         task_state_est.c:207:\\x1b[0m Height 1.690: Velocity: 0.3\\n'\n",
      "b'1213161 \\x1b[94mTRACE\\x1b[0m \\x1b[90m         task_state_est.c:207:\\x1b[0m Height 1.688: Velocity: 0.3\\n'\n",
      "b'1213169 \\x1b[94mTRACE\\x1b[0m \\x1b[90m         task_state_est.c:207:\\x1b[0m Height 1.690: Velocity: 0.3\\n'\n",
      "b'1213181 \\x1b[94mTRACE\\x1b[0m \\x1b[90m         task_state_est.c:207:\\x1b[0m Height 1.689: Velocity: 0.3\\n'\n",
      "b'1213191 \\x1b[94mTRACE\\x1b[0m \\x1b[90m         task_state_est.c:207:\\x1b[0m Height 1.686: Velocity: 0.2\\n'\n",
      "b'1213199 \\x1b[94mTRACE\\x1b[0m \\x1b[90m         task_state_est.c:207:\\x1b[0m Height 1.685: Velocity: 0.2\\n'\n",
      "b'1213211 \\x1b[94mTRACE\\x1b[0m \\x1b[90m         task_state_est.c:207:\\x1b[0m Height 1.684: Velocity: 0.2\\n'\n",
      "b'1213221 \\x1b[94mTRACE\\x1b[0m \\x1b[90m         task_state_est.c:207:\\x1b[0m Height 1.685: Velocity: 0.2\\n'\n",
      "b'1213229 \\x1b[94mTRACE\\x1b[0m \\x1b[90m         task_state_est.c:207:\\x1b[0m Height 1.681: Velocity: 0.1\\n'\n",
      "b'1213241 \\x1b[94mTRACE\\x1b[0m \\x1b[90m         task_state_est.c:207:\\x1b[0m Height 1.680: Velocity: 0.1\\n'\n",
      "b'1213251 \\x1b[94mTRACE\\x1b[0m \\x1b[90m         task_state_est.c:207:\\x1b[0m Height 1.682: Velocity: 0.1\\n'\n",
      "b'1213259 \\x1b[94mTRACE\\x1b[0m \\x1b[90m         task_state_est.c:207:\\x1b[0m Height 1.681: Velocity: 0.1\\n'\n",
      "b'1213271 \\x1b[94mTRACE\\x1b[0m \\x1b[90m         task_state_est.c:207:\\x1b[0m Height 1.675: Velocity: 0.0\\n'\n",
      "b'1213281 \\x1b[94mTRACE\\x1b[0m \\x1b[90m         task_state_est.c:207:\\x1b[0m Height 1.679: Velocity: 0.1\\n'\n",
      "b'1213289 \\x1b[94mTRACE\\x1b[0m \\x1b[90m         task_state_est.c:207:\\x1b[0m Height 1.680: Velocity: 0.1\\n'\n",
      "b'1213301 \\x1b[94mTRACE\\x1b[0m \\x1b[90m         task_state_est.c:207:\\x1b[0m Height 1.679: Velocity: 0.1\\n'\n",
      "b'1213311 \\x1b[94mTRACE\\x1b[0m \\x1b[90m         task_state_est.c:207:\\x1b[0m Height 1.681: Velocity: 0.1\\n'\n",
      "b'1213319 \\x1b[94mTRACE\\x1b[0m \\x1b[90m         task_state_est.c:207:\\x1b[0m Height 1.680: Velocity: 0.1\\n'\n",
      "b'1213331 \\x1b[94mTRACE\\x1b[0m \\x1b[90m         task_state_est.c:207:\\x1b[0m Height 1.682: Velocity: 0.1\\n'\n",
      "b'1213341 \\x1b[94mTRACE\\x1b[0m \\x1b[90m         task_state_est.c:207:\\x1b[0m Height 1.684: Velocity: 0.2\\n'\n",
      "b'1213349 \\x1b[94mTRACE\\x1b[0m \\x1b[90m         task_state_est.c:207:\\x1b[0m Height 1.683: Velocity: 0.2\\n'\n",
      "b'1213361 \\x1b[94mTRACE\\x1b[0m \\x1b[90m         task_state_est.c:207:\\x1b[0m Height 1.687: Velocity: 0.2\\n'\n",
      "b'1213371 \\x1b[94mTRACE\\x1b[0m \\x1b[90m         task_state_est.c:207:\\x1b[0m Height 1.689: Velocity: 0.3\\n'\n",
      "b'1213379 \\x1b[94mTRACE\\x1b[0m \\x1b[90m         task_state_est.c:207:\\x1b[0m Height 1.690: Velocity: 0.3\\n'\n",
      "b'1213391 \\x1b[94mTRACE\\x1b[0m \\x1b[90m         task_state_est.c:207:\\x1b[0m Height 1.687: Velocity: 0.2\\n'\n",
      "b'1213401 \\x1b[94mTRACE\\x1b[0m \\x1b[90m         task_state_est.c:207:\\x1b[0m Height 1.686: Velocity: 0.2\\n'\n",
      "b'1213409 \\x1b[94mTRACE\\x1b[0m \\x1b[90m         task_state_est.c:207:\\x1b[0m Height 1.685: Velocity: 0.2\\n'\n",
      "b'1213421 \\x1b[94mTRACE\\x1b[0m \\x1b[90m         task_state_est.c:207:\\x1b[0m Height 1.684: Velocity: 0.2\\n'\n",
      "b'1213431 \\x1b[94mTRACE\\x1b[0m \\x1b[90m         task_state_est.c:207:\\x1b[0m Height 1.683: Velocity: 0.1\\n'\n",
      "b'1213439 \\x1b[94mTRACE\\x1b[0m \\x1b[90m         task_state_est.c:207:\\x1b[0m Height 1.684: Velocity: 0.2\\n'\n",
      "b'1213451 \\x1b[94mTRACE\\x1b[0m \\x1b[90m         task_state_est.c:207:\\x1b[0m Height 1.686: Velocity: 0.2\\n'\n",
      "b'1213461 \\x1b[94mTRACE\\x1b[0m \\x1b[90m         task_state_est.c:207:\\x1b[0m Height 1.687: Velocity: 0.2\\n'\n",
      "b'1213469 \\x1b[94mTRACE\\x1b[0m \\x1b[90m         task_state_est.c:207:\\x1b[0m Height 1.686: Velocity: 0.2\\n'\n",
      "b'1213481 \\x1b[94mTRACE\\x1b[0m \\x1b[90m         task_state_est.c:207:\\x1b[0m Height 1.688: Velocity: 0.2\\n'\n",
      "b'1213491 \\x1b[94mTRACE\\x1b[0m \\x1b[90m         task_state_est.c:207:\\x1b[0m Height 1.687: Velocity: 0.2\\n'\n",
      "b'1213499 \\x1b[94mTRACE\\x1b[0m \\x1b[90m         task_state_est.c:207:\\x1b[0m Height 1.689: Velocity: 0.3\\n'\n",
      "b'1213511 \\x1b[94mTRACE\\x1b[0m \\x1b[90m         task_state_est.c:207:\\x1b[0m Height 1.690: Velocity: 0.3\\n'\n",
      "b'1213521 \\x1b[94mTRACE\\x1b[0m \\x1b[90m         task_state_est.c:207:\\x1b[0m Height 1.692: Velocity: 0.3\\n'\n",
      "b'1213529 \\x1b[94mTRACE\\x1b[0m \\x1b[90m         task_state_est.c:207:\\x1b[0m Height 1.688: Velocity: 0.2\\n'\n",
      "b'1213541 \\x1b[94mTRACE\\x1b[0m \\x1b[90m         task_state_est.c:207:\\x1b[0m Height 1.690: Velocity: 0.2\\n'\n",
      "b'1213551 \\x1b[94mTRACE\\x1b[0m \\x1b[90m         task_state_est.c:207:\\x1b[0m Height 1.686: Velocity: 0.2\\n'\n",
      "b'1213559 \\x1b[94mTRACE\\x1b[0m \\x1b[90m         task_state_est.c:207:\\x1b[0m Height 1.685: Velocity: 0.1\\n'\n",
      "b'1213571 \\x1b[94mTRACE\\x1b[0m \\x1b[90m         task_state_est.c:207:\\x1b[0m Height 1.687: Velocity: 0.2\\n'\n",
      "b'1213581 \\x1b[94mTRACE\\x1b[0m \\x1b[90m         task_state_est.c:207:\\x1b[0m Height 1.691: Velocity: 0.2\\n'\n",
      "b'1213589 \\x1b[94mTRACE\\x1b[0m \\x1b[90m         task_state_est.c:207:\\x1b[0m Height 1.687: Velocity: 0.2\\n'\n",
      "b'1213601 \\x1b[94mTRACE\\x1b[0m \\x1b[90m         task_state_est.c:207:\\x1b[0m Height 1.689: Velocity: 0.2\\n'\n",
      "b'1213611 \\x1b[94mTRACE\\x1b[0m \\x1b[90m         task_state_est.c:207:\\x1b[0m Height 1.690: Velocity: 0.2\\n'\n",
      "b'1213619 \\x1b[94mTRACE\\x1b[0m \\x1b[90m         task_state_est.c:207:\\x1b[0m Height 1.692: Velocity: 0.3\\n'\n",
      "b'1213631 \\x1b[94mTRACE\\x1b[0m \\x1b[90m         task_state_est.c:207:\\x1b[0m Height 1.693: Velocity: 0.3\\n'\n",
      "b'1213641 \\x1b[94mTRACE\\x1b[0m \\x1b[90m         task_state_est.c:207:\\x1b[0m Height 1.693: Velocity: 0.3\\n'\n",
      "b'1213649 \\x1b[94mTRACE\\x1b[0m \\x1b[90m         task_state_est.c:207:\\x1b[0m Height 1.692: Velocity: 0.3\\n'\n",
      "b'1213661 \\x1b[94mTRACE\\x1b[0m \\x1b[90m         task_state_est.c:207:\\x1b[0m Height 1.691: Velocity: 0.2\\n'\n",
      "b'1213671 \\x1b[94mTRACE\\x1b[0m \\x1b[90m         task_state_est.c:207:\\x1b[0m Height 1.687: Velocity: 0.1\\n'\n",
      "b'1213679 \\x1b[94mTRACE\\x1b[0m \\x1b[90m         task_state_est.c:207:\\x1b[0m Height 1.686: Velocity: 0.1\\n'\n",
      "b'1213691 \\x1b[94mTRACE\\x1b[0m \\x1b[90m         task_state_est.c:207:\\x1b[0m Height 1.685: Velocity: 0.1\\n'\n",
      "b'1213701 \\x1b[94mTRACE\\x1b[0m \\x1b[90m         task_state_est.c:207:\\x1b[0m Height 1.681: Velocity: 0.0\\n'\n",
      "b'1213709 \\x1b[94mTRACE\\x1b[0m \\x1b[90m         task_state_est.c:207:\\x1b[0m Height 1.680: Velocity: 0.0\\n'\n",
      "b'1213721 \\x1b[94mTRACE\\x1b[0m \\x1b[90m         task_state_est.c:207:\\x1b[0m Height 1.679: Velocity: 0.0\\n'\n",
      "b'1213731 \\x1b[94mTRACE\\x1b[0m \\x1b[90m         task_state_est.c:207:\\x1b[0m Height 1.681: Velocity: 0.0\\n'\n",
      "b'1213739 \\x1b[94mTRACE\\x1b[0m \\x1b[90m         task_state_est.c:207:\\x1b[0m Height 1.678: Velocity: 0.0\\n'\n",
      "b'1213751 \\x1b[94mTRACE\\x1b[0m \\x1b[90m         task_state_est.c:207:\\x1b[0m Height 1.677: Velocity: 0.0\\n'\n",
      "b'1213761 \\x1b[94mTRACE\\x1b[0m \\x1b[90m         task_state_est.c:207:\\x1b[0m Height 1.681: Velocity: 0.0\\n'\n"
     ]
    },
    {
     "ename": "KeyboardInterrupt",
     "evalue": "",
     "output_type": "error",
     "traceback": [
      "\u001b[1;31m---------------------------------------------------------------------------\u001b[0m",
      "\u001b[1;31mKeyboardInterrupt\u001b[0m                         Traceback (most recent call last)",
      "\u001b[1;32m<ipython-input-1-ad7aec93b808>\u001b[0m in \u001b[0;36m<module>\u001b[1;34m\u001b[0m\n\u001b[0;32m     11\u001b[0m     \u001b[1;31m#s = ser.read(10)        # read up to ten bytes (timeout)\u001b[0m\u001b[1;33m\u001b[0m\u001b[1;33m\u001b[0m\u001b[1;33m\u001b[0m\u001b[0m\n\u001b[0;32m     12\u001b[0m     \u001b[1;32mwhile\u001b[0m \u001b[1;32mTrue\u001b[0m\u001b[1;33m:\u001b[0m\u001b[1;33m\u001b[0m\u001b[1;33m\u001b[0m\u001b[0m\n\u001b[1;32m---> 13\u001b[1;33m         \u001b[0mline\u001b[0m \u001b[1;33m=\u001b[0m \u001b[0mser\u001b[0m\u001b[1;33m.\u001b[0m\u001b[0mreadline\u001b[0m\u001b[1;33m(\u001b[0m\u001b[1;33m)\u001b[0m    \u001b[1;31m# read a '\\n' terminated line\u001b[0m\u001b[1;33m\u001b[0m\u001b[1;33m\u001b[0m\u001b[0m\n\u001b[0m\u001b[0;32m     14\u001b[0m         \u001b[0mprint\u001b[0m\u001b[1;33m(\u001b[0m\u001b[0mline\u001b[0m\u001b[1;33m)\u001b[0m\u001b[1;33m\u001b[0m\u001b[1;33m\u001b[0m\u001b[0m\n",
      "\u001b[1;32m~\\anaconda3\\lib\\site-packages\\serial\\serialwin32.py\u001b[0m in \u001b[0;36mread\u001b[1;34m(self, size)\u001b[0m\n\u001b[0;32m    286\u001b[0m                 \u001b[1;32mif\u001b[0m \u001b[1;32mnot\u001b[0m \u001b[0mread_ok\u001b[0m \u001b[1;32mand\u001b[0m \u001b[0mwin32\u001b[0m\u001b[1;33m.\u001b[0m\u001b[0mGetLastError\u001b[0m\u001b[1;33m(\u001b[0m\u001b[1;33m)\u001b[0m \u001b[1;32mnot\u001b[0m \u001b[1;32min\u001b[0m \u001b[1;33m(\u001b[0m\u001b[0mwin32\u001b[0m\u001b[1;33m.\u001b[0m\u001b[0mERROR_SUCCESS\u001b[0m\u001b[1;33m,\u001b[0m \u001b[0mwin32\u001b[0m\u001b[1;33m.\u001b[0m\u001b[0mERROR_IO_PENDING\u001b[0m\u001b[1;33m)\u001b[0m\u001b[1;33m:\u001b[0m\u001b[1;33m\u001b[0m\u001b[1;33m\u001b[0m\u001b[0m\n\u001b[0;32m    287\u001b[0m                     \u001b[1;32mraise\u001b[0m \u001b[0mSerialException\u001b[0m\u001b[1;33m(\u001b[0m\u001b[1;34m\"ReadFile failed ({!r})\"\u001b[0m\u001b[1;33m.\u001b[0m\u001b[0mformat\u001b[0m\u001b[1;33m(\u001b[0m\u001b[0mctypes\u001b[0m\u001b[1;33m.\u001b[0m\u001b[0mWinError\u001b[0m\u001b[1;33m(\u001b[0m\u001b[1;33m)\u001b[0m\u001b[1;33m)\u001b[0m\u001b[1;33m)\u001b[0m\u001b[1;33m\u001b[0m\u001b[1;33m\u001b[0m\u001b[0m\n\u001b[1;32m--> 288\u001b[1;33m                 result_ok = win32.GetOverlappedResult(\n\u001b[0m\u001b[0;32m    289\u001b[0m                     \u001b[0mself\u001b[0m\u001b[1;33m.\u001b[0m\u001b[0m_port_handle\u001b[0m\u001b[1;33m,\u001b[0m\u001b[1;33m\u001b[0m\u001b[1;33m\u001b[0m\u001b[0m\n\u001b[0;32m    290\u001b[0m                     \u001b[0mctypes\u001b[0m\u001b[1;33m.\u001b[0m\u001b[0mbyref\u001b[0m\u001b[1;33m(\u001b[0m\u001b[0mself\u001b[0m\u001b[1;33m.\u001b[0m\u001b[0m_overlapped_read\u001b[0m\u001b[1;33m)\u001b[0m\u001b[1;33m,\u001b[0m\u001b[1;33m\u001b[0m\u001b[1;33m\u001b[0m\u001b[0m\n",
      "\u001b[1;31mKeyboardInterrupt\u001b[0m: "
     ]
    }
   ],
   "source": [
    "import serial.tools.list_ports\n",
    "from serial import Serial\n",
    "\n",
    "for port in serial.tools.list_ports.comports():\n",
    "    if(port.description.startswith('STMicroelectronics Virtual COM Port')):\n",
    "        print(port)\n",
    "        break\n",
    "        \n",
    "with serial.Serial(port.name, 115200, timeout=1) as ser:\n",
    "    #x = ser.read()          # read one byte\n",
    "    #s = ser.read(10)        # read up to ten bytes (timeout)\n",
    "    while True:\n",
    "        line = ser.readline()    # read a '\\n' terminated line\n",
    "        print(line)\n"
   ]
  },
  {
   "cell_type": "code",
   "execution_count": null,
   "metadata": {},
   "outputs": [],
   "source": []
  },
  {
   "cell_type": "code",
   "execution_count": null,
   "metadata": {},
   "outputs": [],
   "source": []
  }
 ],
 "metadata": {
  "kernelspec": {
   "display_name": "Python 3",
   "language": "python",
   "name": "python3"
  },
  "language_info": {
   "codemirror_mode": {
    "name": "ipython",
    "version": 3
   },
   "file_extension": ".py",
   "mimetype": "text/x-python",
   "name": "python",
   "nbconvert_exporter": "python",
   "pygments_lexer": "ipython3",
   "version": "3.8.3"
  }
 },
 "nbformat": 4,
 "nbformat_minor": 4
}
